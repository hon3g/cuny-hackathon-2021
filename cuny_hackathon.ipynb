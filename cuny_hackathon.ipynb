{
 "cells": [
  {
   "cell_type": "code",
   "execution_count": 77,
   "metadata": {},
   "outputs": [],
   "source": [
    "from selenium import webdriver\n",
    "import time\n",
    "import random\n",
    "\n",
    "import pandas as pd\n",
    "import numpy as np\n",
    "import matplotlib.pyplot as plt\n",
    "import seaborn as sns"
   ]
  },
  {
   "cell_type": "markdown",
   "metadata": {},
   "source": [
    "# Collect Data from DevPost"
   ]
  },
  {
   "cell_type": "code",
   "execution_count": 2,
   "metadata": {},
   "outputs": [],
   "source": [
    "url = 'https://the-cuny-hackathon-2021.devpost.com/participants'\n",
    "path = r'C:\\Users\\Hong\\Desktop\\chromedriver'"
   ]
  },
  {
   "cell_type": "code",
   "execution_count": 3,
   "metadata": {},
   "outputs": [],
   "source": [
    "# Go on devpost and login\n",
    "\n",
    "driver = webdriver.Chrome(executable_path = path)\n",
    "driver.get(url)\n",
    "\n",
    "driver.find_element_by_id('main-link').click()\n",
    "driver.find_element_by_link_text('Log in with GitHub').click()\n",
    "\n",
    "with open('github_pw.txt', 'r') as f:\n",
    "    pw = f.read()\n",
    "    \n",
    "driver.find_element_by_id('login_field').send_keys('hon3g')\n",
    "driver.find_element_by_id('password').send_keys(pw)\n",
    "driver.find_element_by_xpath('//*[@id=\"login\"]/div[3]/form/input[14]').click()"
   ]
  },
  {
   "cell_type": "code",
   "execution_count": 4,
   "metadata": {},
   "outputs": [
    {
     "name": "stdout",
     "output_type": "stream",
     "text": [
      "Finished scrolling in: 60 seconds\n"
     ]
    }
   ],
   "source": [
    "# Make a scroller function\n",
    "\n",
    "def anti_lazy_loader(sec):\n",
    "    start_time = time.time()\n",
    "    seconds = sec\n",
    "\n",
    "    while True:\n",
    "        driver.execute_script(\"window.scrollTo(0, document.body.scrollHeight);\")\n",
    "        \n",
    "        current_time = time.time()\n",
    "        elapsed_time = current_time - start_time\n",
    "        if elapsed_time > seconds:\n",
    "            print(\"Finished scrolling in: \" + str(int(elapsed_time))  + \" seconds\")\n",
    "            break\n",
    "            \n",
    "            \n",
    "anti_lazy_loader(60)"
   ]
  },
  {
   "cell_type": "code",
   "execution_count": 5,
   "metadata": {},
   "outputs": [],
   "source": [
    "# Get all participants' profile links, title, and team status\n",
    "\n",
    "links = []\n",
    "title = []\n",
    "status = []\n",
    "\n",
    "for i in range(500):\n",
    "    # Get link\n",
    "    e = driver.find_elements_by_xpath(f'//*[@id=\"participants\"]/ul/div[{i}]/div[1]/div[2]/div/h5/a')\n",
    "    if len(e) < 1:\n",
    "        links.append(None)\n",
    "    else:\n",
    "        links.append(e[0].get_attribute('href'))\n",
    "        \n",
    "    # Get title\n",
    "    e = driver.find_elements_by_xpath(f'//*[@id=\"participants\"]/ul/div[{i}]/div[1]/div[2]/div/span[2]')\n",
    "    if len(e) < 1:\n",
    "        title.append('Unknown')\n",
    "    else:\n",
    "        title.append(e[0].text)\n",
    "        \n",
    "    # Get status\n",
    "    e = driver.find_elements_by_xpath(f'//*[@id=\"participants\"]/ul/div[{i}]/div[1]/div[3]/div/span')\n",
    "    if len(e) < 1:\n",
    "        status.append('Unknown')\n",
    "    else:\n",
    "        status.append(e[0].text)\n"
   ]
  },
  {
   "cell_type": "code",
   "execution_count": 6,
   "metadata": {},
   "outputs": [],
   "source": [
    "# Remove failed links and their corresponding titles and statuses\n",
    "\n",
    "for i in range(len(links) - 1, -1, -1):\n",
    "    if links[i] is None:\n",
    "        del links[i]\n",
    "        del title[i]\n",
    "        del status[i]"
   ]
  },
  {
   "cell_type": "code",
   "execution_count": 7,
   "metadata": {},
   "outputs": [
    {
     "name": "stdout",
     "output_type": "stream",
     "text": [
      "len: 490\n",
      "['https://devpost.com/kelvin-wu125', 'https://devpost.com/mayravsanchez479', 'https://devpost.com/dhruvppatel2506', 'https://devpost.com/vilsijain-cse22', 'https://devpost.com/MajorLeagueHacking']\n",
      "len: 490\n",
      "['Unknown', 'Full-stack developer', 'Designer', 'Front-end developer', 'Unknown']\n",
      "len: 490\n",
      "['Has a team', 'Working solo', 'Working solo', 'Looking for teammates', 'Has a team']\n"
     ]
    }
   ],
   "source": [
    "# Get the len and random sample 5 links\n",
    "print(f'len: {len(links)}')\n",
    "print(random.sample(links, 5))\n",
    "\n",
    "# Get the len and random sample 5 titles\n",
    "print(f'len: {len(title)}')\n",
    "print(random.sample(title, 5))\n",
    "\n",
    "# Get the len and random sample 5 statuses\n",
    "print(f'len: {len(status)}')\n",
    "print(random.sample(status, 5))"
   ]
  },
  {
   "cell_type": "code",
   "execution_count": 8,
   "metadata": {},
   "outputs": [
    {
     "name": "stdout",
     "output_type": "stream",
     "text": [
      "Finished fetching in: 10.4 minutes!\n"
     ]
    }
   ],
   "source": [
    "# Time the fetching process\n",
    "start = time.perf_counter()\n",
    "\n",
    "\n",
    "# Create a hacker dictionary\n",
    "hacker = {\n",
    "    'name'         : [],\n",
    "    'location'     : [],\n",
    "    'country'      : [],\n",
    "    'skills'       : [],\n",
    "    'num_skills'   : [],\n",
    "    'interests'    : [],\n",
    "    'num_interests': [],\n",
    "    'projects'     : [],\n",
    "    'hackathon'    : [],\n",
    "    'achievement'  : [],\n",
    "    'followers'    : [],\n",
    "    'following'    : [],\n",
    "    'likes'        : [],\n",
    "    \n",
    "    'title'        : title,\n",
    "    'status'       : status,\n",
    "}\n",
    "\n",
    "\n",
    "# Loop through each participant\n",
    "for idx in range(len(links)):\n",
    "    driver.get(links[idx])\n",
    "    \n",
    "    \n",
    "    # Get name\n",
    "    try:\n",
    "        e = driver.find_elements_by_xpath('//*[@id=\"portfolio-user-name\"]')[0]\n",
    "        name = e.text[: e.text.index('(') - 1].title()\n",
    "\n",
    "        hacker['name'].append(name)\n",
    "    ## Someone keeps changing names?\n",
    "    except IndexError:\n",
    "        print(f'Failed at index {idx}')\n",
    "        failed = idx\n",
    "        continue\n",
    "    \n",
    "    \n",
    "    # Get location\n",
    "    try:\n",
    "        e = driver.find_elements_by_xpath('//*[@id=\"portfolio-user-links\"]/li[1]')[0]\n",
    "        if e.text in {'GitHub', 'LinkedIn', 'Website'}:\n",
    "            location = 'Unknown'\n",
    "        else:\n",
    "            location = e.text\n",
    "    except IndexError:\n",
    "        location = 'Unknown'\n",
    "    hacker['location'].append(location)\n",
    "    \n",
    "    try:\n",
    "        start = location.rindex(' ') + 1\n",
    "        hacker['country'].append(location[start:])\n",
    "    except ValueError:\n",
    "        hacker['country'].append(location)\n",
    "    \n",
    "    \n",
    "    # Get skills\n",
    "    skills = []\n",
    "    for i in range(999):\n",
    "        try:\n",
    "            e = driver.find_elements_by_xpath('//*[@id=\"portfolio-user-info\"]/div/div/div[1]/ul/li')[i]\n",
    "            skills.append(e.text)\n",
    "        except IndexError:\n",
    "            break\n",
    "    hacker['skills'].append(skills)\n",
    "    hacker['num_skills'].append(len(skills))\n",
    "    \n",
    "    \n",
    "    # Get interests\n",
    "    interests = []\n",
    "    for i in range(999):\n",
    "        try:\n",
    "            e = driver.find_elements_by_xpath('//*[@id=\"portfolio-user-info\"]/div/div/div[2]/ul/li')[i]\n",
    "            interests.append(e.text)\n",
    "        except IndexError:\n",
    "            break\n",
    "    hacker['interests'].append(interests)\n",
    "    hacker['num_interests'].append(len(interests))\n",
    "            \n",
    "    \n",
    "    # Get projects, hackathon, achievement, followers, following, and likes\n",
    "    loc = 1\n",
    "    for i in ('projects', 'hackathon', 'achievement', 'followers', 'following', 'likes'):\n",
    "        e = driver.find_elements_by_xpath(f'//*[@id=\"portfolio-navigation\"]/ul/li[{loc}]/a/div/span')[0]\n",
    "        hacker[i].append(e.text)\n",
    "        loc += 1\n",
    "\n",
    "\n",
    "\n",
    "end = time.perf_counter()\n",
    "mins = round((end - start) / 60,  1)\n",
    "print(f'Finished fetching in: {mins} minutes!')"
   ]
  },
  {
   "cell_type": "code",
   "execution_count": 12,
   "metadata": {},
   "outputs": [
    {
     "name": "stdout",
     "output_type": "stream",
     "text": [
      "name 490\n",
      "location 490\n",
      "country 490\n",
      "skills 490\n",
      "num_skills 490\n",
      "interests 490\n",
      "num_interests 490\n",
      "projects 490\n",
      "hackathon 490\n",
      "achievement 490\n",
      "followers 490\n",
      "following 490\n",
      "likes 490\n",
      "title 490\n",
      "status 490\n"
     ]
    }
   ],
   "source": [
    "try:\n",
    "    del title[failed]\n",
    "    del status[failed]\n",
    "except NameError:\n",
    "    pass\n",
    "    \n",
    "for key in hacker.keys():\n",
    "    print(key, len(hacker[key]))"
   ]
  },
  {
   "cell_type": "markdown",
   "metadata": {},
   "source": [
    "# Data Preprocessing &  Visualization"
   ]
  },
  {
   "cell_type": "code",
   "execution_count": 362,
   "metadata": {},
   "outputs": [],
   "source": [
    "# Convert hacker ditionary into a pandas dataframe\n",
    "df = pd.DataFrame(hacker)\n",
    "\n",
    "# Save a copy locally\n",
    "df.to_csv('cuny_hackathon.csv', index=False)"
   ]
  },
  {
   "cell_type": "code",
   "execution_count": 363,
   "metadata": {},
   "outputs": [
    {
     "name": "stdout",
     "output_type": "stream",
     "text": [
      "<class 'pandas.core.frame.DataFrame'>\n",
      "RangeIndex: 490 entries, 0 to 489\n",
      "Data columns (total 15 columns):\n",
      " #   Column         Non-Null Count  Dtype \n",
      "---  ------         --------------  ----- \n",
      " 0   name           490 non-null    object\n",
      " 1   location       490 non-null    object\n",
      " 2   country        490 non-null    object\n",
      " 3   skills         490 non-null    object\n",
      " 4   num_skills     490 non-null    int64 \n",
      " 5   interests      490 non-null    object\n",
      " 6   num_interests  490 non-null    int64 \n",
      " 7   projects       490 non-null    object\n",
      " 8   hackathon      490 non-null    object\n",
      " 9   achievement    490 non-null    object\n",
      " 10  followers      490 non-null    object\n",
      " 11  following      490 non-null    object\n",
      " 12  likes          490 non-null    object\n",
      " 13  title          490 non-null    object\n",
      " 14  status         490 non-null    object\n",
      "dtypes: int64(2), object(13)\n",
      "memory usage: 57.5+ KB\n"
     ]
    }
   ],
   "source": [
    "df.info()"
   ]
  },
  {
   "cell_type": "code",
   "execution_count": 364,
   "metadata": {},
   "outputs": [
    {
     "data": {
      "text/html": [
       "<div>\n",
       "<style scoped>\n",
       "    .dataframe tbody tr th:only-of-type {\n",
       "        vertical-align: middle;\n",
       "    }\n",
       "\n",
       "    .dataframe tbody tr th {\n",
       "        vertical-align: top;\n",
       "    }\n",
       "\n",
       "    .dataframe thead th {\n",
       "        text-align: right;\n",
       "    }\n",
       "</style>\n",
       "<table border=\"1\" class=\"dataframe\">\n",
       "  <thead>\n",
       "    <tr style=\"text-align: right;\">\n",
       "      <th></th>\n",
       "      <th>name</th>\n",
       "      <th>location</th>\n",
       "      <th>country</th>\n",
       "      <th>skills</th>\n",
       "      <th>num_skills</th>\n",
       "      <th>interests</th>\n",
       "      <th>num_interests</th>\n",
       "      <th>projects</th>\n",
       "      <th>hackathon</th>\n",
       "      <th>achievement</th>\n",
       "      <th>followers</th>\n",
       "      <th>following</th>\n",
       "      <th>likes</th>\n",
       "      <th>title</th>\n",
       "      <th>status</th>\n",
       "    </tr>\n",
       "  </thead>\n",
       "  <tbody>\n",
       "    <tr>\n",
       "      <th>107</th>\n",
       "      <td>Mena Bebawy</td>\n",
       "      <td>New York, New York, United States</td>\n",
       "      <td>States</td>\n",
       "      <td>[c++, css3, html5, sql, r]</td>\n",
       "      <td>5</td>\n",
       "      <td>[Machine Learning/ AI]</td>\n",
       "      <td>1</td>\n",
       "      <td>0</td>\n",
       "      <td>2</td>\n",
       "      <td>1</td>\n",
       "      <td>0</td>\n",
       "      <td>0</td>\n",
       "      <td>0</td>\n",
       "      <td>Student</td>\n",
       "      <td>Looking for teammates</td>\n",
       "    </tr>\n",
       "    <tr>\n",
       "      <th>322</th>\n",
       "      <td>Marcus Dawodu</td>\n",
       "      <td>New York, New York, United States</td>\n",
       "      <td>States</td>\n",
       "      <td>[python, java, html, css, c++, photoshop]</td>\n",
       "      <td>6</td>\n",
       "      <td>[AR/VR, Cybersecurity, Gaming, Machine Learnin...</td>\n",
       "      <td>4</td>\n",
       "      <td>0</td>\n",
       "      <td>1</td>\n",
       "      <td>1</td>\n",
       "      <td>1</td>\n",
       "      <td>1</td>\n",
       "      <td>0</td>\n",
       "      <td>Front-end developer</td>\n",
       "      <td>Has a team</td>\n",
       "    </tr>\n",
       "    <tr>\n",
       "      <th>325</th>\n",
       "      <td>Jennifer Ww</td>\n",
       "      <td>Unknown</td>\n",
       "      <td>Unknown</td>\n",
       "      <td>[java]</td>\n",
       "      <td>1</td>\n",
       "      <td>[AR/VR, Gaming, Machine Learning/ AI, Producti...</td>\n",
       "      <td>4</td>\n",
       "      <td>1</td>\n",
       "      <td>3</td>\n",
       "      <td>4</td>\n",
       "      <td>1</td>\n",
       "      <td>0</td>\n",
       "      <td>0</td>\n",
       "      <td>Product manager</td>\n",
       "      <td>Has a team</td>\n",
       "    </tr>\n",
       "    <tr>\n",
       "      <th>368</th>\n",
       "      <td>Caesar Chin</td>\n",
       "      <td>New York, New York, United States</td>\n",
       "      <td>States</td>\n",
       "      <td>[python, c++, brainf, javascript]</td>\n",
       "      <td>4</td>\n",
       "      <td>[Lifehacks]</td>\n",
       "      <td>1</td>\n",
       "      <td>1</td>\n",
       "      <td>2</td>\n",
       "      <td>4</td>\n",
       "      <td>3</td>\n",
       "      <td>0</td>\n",
       "      <td>1</td>\n",
       "      <td>Unknown</td>\n",
       "      <td>Has a team</td>\n",
       "    </tr>\n",
       "    <tr>\n",
       "      <th>37</th>\n",
       "      <td>Nika Dariani</td>\n",
       "      <td>Toronto, Ontario, Canada</td>\n",
       "      <td>Canada</td>\n",
       "      <td>[photoshop, adobe-illustrator, adobe, adobe-xd...</td>\n",
       "      <td>10</td>\n",
       "      <td>[Blockchain, Communication, Gaming, Lifehacks,...</td>\n",
       "      <td>7</td>\n",
       "      <td>1</td>\n",
       "      <td>2</td>\n",
       "      <td>3</td>\n",
       "      <td>0</td>\n",
       "      <td>0</td>\n",
       "      <td>0</td>\n",
       "      <td>Project Manager</td>\n",
       "      <td>Has a team</td>\n",
       "    </tr>\n",
       "  </tbody>\n",
       "</table>\n",
       "</div>"
      ],
      "text/plain": [
       "              name                           location  country  \\\n",
       "107    Mena Bebawy  New York, New York, United States   States   \n",
       "322  Marcus Dawodu  New York, New York, United States   States   \n",
       "325    Jennifer Ww                            Unknown  Unknown   \n",
       "368    Caesar Chin  New York, New York, United States   States   \n",
       "37    Nika Dariani           Toronto, Ontario, Canada   Canada   \n",
       "\n",
       "                                                skills  num_skills  \\\n",
       "107                         [c++, css3, html5, sql, r]           5   \n",
       "322          [python, java, html, css, c++, photoshop]           6   \n",
       "325                                             [java]           1   \n",
       "368                  [python, c++, brainf, javascript]           4   \n",
       "37   [photoshop, adobe-illustrator, adobe, adobe-xd...          10   \n",
       "\n",
       "                                             interests  num_interests  \\\n",
       "107                             [Machine Learning/ AI]              1   \n",
       "322  [AR/VR, Cybersecurity, Gaming, Machine Learnin...              4   \n",
       "325  [AR/VR, Gaming, Machine Learning/ AI, Producti...              4   \n",
       "368                                        [Lifehacks]              1   \n",
       "37   [Blockchain, Communication, Gaming, Lifehacks,...              7   \n",
       "\n",
       "    projects hackathon achievement followers following likes  \\\n",
       "107        0         2           1         0         0     0   \n",
       "322        0         1           1         1         1     0   \n",
       "325        1         3           4         1         0     0   \n",
       "368        1         2           4         3         0     1   \n",
       "37         1         2           3         0         0     0   \n",
       "\n",
       "                   title                 status  \n",
       "107              Student  Looking for teammates  \n",
       "322  Front-end developer             Has a team  \n",
       "325      Product manager             Has a team  \n",
       "368              Unknown             Has a team  \n",
       "37       Project Manager             Has a team  "
      ]
     },
     "execution_count": 364,
     "metadata": {},
     "output_type": "execute_result"
    }
   ],
   "source": [
    "df.sample(5)"
   ]
  },
  {
   "cell_type": "code",
   "execution_count": 365,
   "metadata": {},
   "outputs": [],
   "source": [
    "name_df = df.loc[:, 'name']\n",
    "df.drop(columns=['name', 'location', 'skills', 'interests'], inplace=True)"
   ]
  },
  {
   "cell_type": "code",
   "execution_count": 366,
   "metadata": {},
   "outputs": [
    {
     "data": {
      "text/plain": [
       "0            Wengsing Wong\n",
       "1          Edwin Samaniego\n",
       "2           Aditya Panchal\n",
       "3          Keshav Majithia\n",
       "4        Ajithtech75 Ajith\n",
       "              ...         \n",
       "485            Myat Thu Ko\n",
       "486    Alexandra Debartolo\n",
       "487    Isabelle Montesinos\n",
       "488           Dolma Sherpa\n",
       "489           Harjit Liyal\n",
       "Name: name, Length: 490, dtype: object"
      ]
     },
     "execution_count": 366,
     "metadata": {},
     "output_type": "execute_result"
    }
   ],
   "source": [
    "name_df"
   ]
  },
  {
   "cell_type": "code",
   "execution_count": 367,
   "metadata": {},
   "outputs": [
    {
     "data": {
      "text/html": [
       "<div>\n",
       "<style scoped>\n",
       "    .dataframe tbody tr th:only-of-type {\n",
       "        vertical-align: middle;\n",
       "    }\n",
       "\n",
       "    .dataframe tbody tr th {\n",
       "        vertical-align: top;\n",
       "    }\n",
       "\n",
       "    .dataframe thead th {\n",
       "        text-align: right;\n",
       "    }\n",
       "</style>\n",
       "<table border=\"1\" class=\"dataframe\">\n",
       "  <thead>\n",
       "    <tr style=\"text-align: right;\">\n",
       "      <th></th>\n",
       "      <th>country</th>\n",
       "      <th>num_skills</th>\n",
       "      <th>num_interests</th>\n",
       "      <th>projects</th>\n",
       "      <th>hackathon</th>\n",
       "      <th>achievement</th>\n",
       "      <th>followers</th>\n",
       "      <th>following</th>\n",
       "      <th>likes</th>\n",
       "      <th>title</th>\n",
       "      <th>status</th>\n",
       "    </tr>\n",
       "  </thead>\n",
       "  <tbody>\n",
       "    <tr>\n",
       "      <th>397</th>\n",
       "      <td>US</td>\n",
       "      <td>1</td>\n",
       "      <td>5</td>\n",
       "      <td>0</td>\n",
       "      <td>1</td>\n",
       "      <td>1</td>\n",
       "      <td>0</td>\n",
       "      <td>0</td>\n",
       "      <td>0</td>\n",
       "      <td>Business</td>\n",
       "      <td>Working solo</td>\n",
       "    </tr>\n",
       "    <tr>\n",
       "      <th>366</th>\n",
       "      <td>Canada</td>\n",
       "      <td>5</td>\n",
       "      <td>4</td>\n",
       "      <td>2</td>\n",
       "      <td>3</td>\n",
       "      <td>7</td>\n",
       "      <td>1</td>\n",
       "      <td>0</td>\n",
       "      <td>3</td>\n",
       "      <td>Full-stack developer</td>\n",
       "      <td>Working solo</td>\n",
       "    </tr>\n",
       "    <tr>\n",
       "      <th>71</th>\n",
       "      <td>Canada</td>\n",
       "      <td>4</td>\n",
       "      <td>6</td>\n",
       "      <td>0</td>\n",
       "      <td>1</td>\n",
       "      <td>1</td>\n",
       "      <td>0</td>\n",
       "      <td>0</td>\n",
       "      <td>0</td>\n",
       "      <td>Software Developer</td>\n",
       "      <td>Has a team</td>\n",
       "    </tr>\n",
       "    <tr>\n",
       "      <th>102</th>\n",
       "      <td>States</td>\n",
       "      <td>10</td>\n",
       "      <td>4</td>\n",
       "      <td>0</td>\n",
       "      <td>1</td>\n",
       "      <td>1</td>\n",
       "      <td>1</td>\n",
       "      <td>1</td>\n",
       "      <td>0</td>\n",
       "      <td>Full-stack developer</td>\n",
       "      <td>Has a team</td>\n",
       "    </tr>\n",
       "    <tr>\n",
       "      <th>364</th>\n",
       "      <td>India</td>\n",
       "      <td>3</td>\n",
       "      <td>3</td>\n",
       "      <td>1</td>\n",
       "      <td>2</td>\n",
       "      <td>1</td>\n",
       "      <td>0</td>\n",
       "      <td>0</td>\n",
       "      <td>0</td>\n",
       "      <td>Front-end developer</td>\n",
       "      <td>Has a team</td>\n",
       "    </tr>\n",
       "  </tbody>\n",
       "</table>\n",
       "</div>"
      ],
      "text/plain": [
       "    country  num_skills  num_interests projects hackathon achievement  \\\n",
       "397      US           1              5        0         1           1   \n",
       "366  Canada           5              4        2         3           7   \n",
       "71   Canada           4              6        0         1           1   \n",
       "102  States          10              4        0         1           1   \n",
       "364   India           3              3        1         2           1   \n",
       "\n",
       "    followers following likes                 title        status  \n",
       "397         0         0     0              Business  Working solo  \n",
       "366         1         0     3  Full-stack developer  Working solo  \n",
       "71          0         0     0    Software Developer    Has a team  \n",
       "102         1         1     0  Full-stack developer    Has a team  \n",
       "364         0         0     0   Front-end developer    Has a team  "
      ]
     },
     "execution_count": 367,
     "metadata": {},
     "output_type": "execute_result"
    }
   ],
   "source": [
    "df.sample(5)"
   ]
  },
  {
   "cell_type": "code",
   "execution_count": 368,
   "metadata": {},
   "outputs": [
    {
     "data": {
      "text/plain": [
       "Text(0.5, 1.0, 'Missing Data')"
      ]
     },
     "execution_count": 368,
     "metadata": {},
     "output_type": "execute_result"
    },
    {
     "data": {
      "image/png": "[encoded data removed]",
      "text/plain": [
       "<Figure size 576x360 with 1 Axes>"
      ]
     },
     "metadata": {
      "needs_background": "light"
     },
     "output_type": "display_data"
    }
   ],
   "source": [
    "vdf = df.replace('Unknown', np.nan)\n",
    "\n",
    "plt.figure(figsize=(8,5))\n",
    "sns.heatmap(vdf.isnull(), cbar=False)\n",
    "plt.title('Missing Data')"
   ]
  },
  {
   "cell_type": "code",
   "execution_count": 369,
   "metadata": {},
   "outputs": [
    {
     "data": {
      "text/plain": [
       "Text(0.5, 1.0, 'Missing Data')"
      ]
     },
     "execution_count": 369,
     "metadata": {},
     "output_type": "execute_result"
    },
    {
     "data": {
      "image/png": "[encoded data removed]",
      "text/plain": [
       "<Figure size 576x360 with 1 Axes>"
      ]
     },
     "metadata": {
      "needs_background": "light"
     },
     "output_type": "display_data"
    }
   ],
   "source": [
    "# Visualize the missing data by their sorted percentage\n",
    "\n",
    "plt.figure(figsize=(8, 5))\n",
    "missing = pd.DataFrame({'column':vdf.columns, 'na_percent':vdf.isnull().sum()/len(df)*100})\n",
    "missing.sort_values('na_percent', ascending=False, inplace=True)\n",
    "plt.bar(missing['column'], missing['na_percent'])\n",
    "plt.ylabel('%')\n",
    "plt.xticks(rotation=90)\n",
    "plt.title('Missing Data')"
   ]
  },
  {
   "cell_type": "code",
   "execution_count": 370,
   "metadata": {},
   "outputs": [],
   "source": [
    "unlabeled_df = df.loc[df['status'] == 'Unknown']\n",
    "df.drop(df.loc[df['status'] == 'Unknown'].index, inplace=True)"
   ]
  },
  {
   "cell_type": "code",
   "execution_count": 371,
   "metadata": {},
   "outputs": [],
   "source": [
    "df.loc[:, 'status'].replace({\n",
    "    'Working solo': 0,\n",
    "    'Looking for teammates': 1,\n",
    "    'Has a team': 1,\n",
    "},\n",
    "    inplace=True\n",
    ")"
   ]
  },
  {
   "cell_type": "code",
   "execution_count": 372,
   "metadata": {},
   "outputs": [
    {
     "data": {
      "text/plain": [
       "Text(0.5, 1.0, 'Solo: 0 \\nTeam: 1')"
      ]
     },
     "execution_count": 372,
     "metadata": {},
     "output_type": "execute_result"
    },
    {
     "data": {
      "image/png": "[encoded data removed]",
      "text/plain": [
       "<Figure size 576x360 with 1 Axes>"
      ]
     },
     "metadata": {
      "needs_background": "light"
     },
     "output_type": "display_data"
    }
   ],
   "source": [
    "plt.figure(figsize=(8, 5))\n",
    "sns.countplot(x='status', data=df)\n",
    "plt.title('Solo: 0 \\nTeam: 1')"
   ]
  },
  {
   "cell_type": "code",
   "execution_count": 373,
   "metadata": {},
   "outputs": [
    {
     "data": {
      "text/plain": [
       "array(['Front-end developer', 'Full-stack developer', 'Product Designer',\n",
       "       'Unknown', 'Mobile developer', 'Data scientist',\n",
       "       'Software Engineer', 'student', 'Business', 'Engineer',\n",
       "       'Back-end developer', 'Project Manager', 'software development',\n",
       "       'Designer', 'Student', 'Software Developer', 'Product manager',\n",
       "       'helper', 'Still-Learning', 'None/Still learning.', 'Game Dev',\n",
       "       'UX', 'Data Analyst', 'Beginner', 'Cisco Networking',\n",
       "       'High school student', 'None', 'Java', 'none', 'Coder',\n",
       "       'youth worker', 'Beginner level developer', 'programmer',\n",
       "       'Data Science Graduate Student', 'N/A', 'Programmer',\n",
       "       'Undergraduate Student', 'Software Engineer Intern',\n",
       "       'Graphic Designer', 'Student Developer', 'Art Industry'],\n",
       "      dtype=object)"
      ]
     },
     "execution_count": 373,
     "metadata": {},
     "output_type": "execute_result"
    }
   ],
   "source": [
    "df['title'].unique()"
   ]
  },
  {
   "cell_type": "code",
   "execution_count": 374,
   "metadata": {},
   "outputs": [],
   "source": [
    "df.drop('title', axis=1, inplace=True)"
   ]
  },
  {
   "cell_type": "code",
   "execution_count": 375,
   "metadata": {},
   "outputs": [
    {
     "data": {
      "text/plain": [
       "array(['States', 'Indonesia', 'India', 'IN', 'Canada', 'France', 'US',\n",
       "       'Unknown', 'Romania', 'CA', '中国', 'Malaysia', 'CZ', 'DZ', 'Mexico',\n",
       "       'Nam', 'BR', 'Kingdom'], dtype=object)"
      ]
     },
     "execution_count": 375,
     "metadata": {},
     "output_type": "execute_result"
    }
   ],
   "source": [
    "df['country'].unique()"
   ]
  },
  {
   "cell_type": "code",
   "execution_count": 376,
   "metadata": {},
   "outputs": [
    {
     "data": {
      "text/plain": [
       "array(['US', 'Indonesia', 'India', 'Canada', 'France', 'Unknown',\n",
       "       'Romania', 'China', 'Malaysia', 'Czechia', 'Algeria', 'Mexico',\n",
       "       'Vietnam', 'Brazil', 'UK'], dtype=object)"
      ]
     },
     "execution_count": 376,
     "metadata": {},
     "output_type": "execute_result"
    }
   ],
   "source": [
    "df['country'].replace({\n",
    "    '中国': 'China',\n",
    "    'States': 'US',\n",
    "    'CA': 'Canada',\n",
    "    'IN': 'India',\n",
    "    'CZ': 'Czechia',\n",
    "    'DZ': 'Algeria',\n",
    "    'BR': 'Brazil',\n",
    "    'Nam': 'Vietnam',\n",
    "    'Kingdom': 'UK',\n",
    "}, \n",
    "    inplace=True\n",
    ")\n",
    "\n",
    "df['country'].unique()"
   ]
  },
  {
   "cell_type": "code",
   "execution_count": 377,
   "metadata": {},
   "outputs": [
    {
     "data": {
      "image/png": "[encoded data removed]",
      "text/plain": [
       "<Figure size 576x360 with 1 Axes>"
      ]
     },
     "metadata": {
      "needs_background": "light"
     },
     "output_type": "display_data"
    }
   ],
   "source": [
    "plt.figure(figsize=(8, 5))\n",
    "sns.countplot(x='country', data=df)\n",
    "plt.xticks(rotation=45)\n",
    "plt.title('Country and Num of Participant')\n",
    "plt.show()"
   ]
  },
  {
   "cell_type": "code",
   "execution_count": 378,
   "metadata": {},
   "outputs": [],
   "source": [
    "obj_cols = ['projects', 'hackathon', 'achievement', 'followers', 'following', 'likes']\n",
    "\n",
    "for col in obj_cols:\n",
    "    df.loc[:, col] = df.loc[:, col].astype(int)"
   ]
  },
  {
   "cell_type": "code",
   "execution_count": 379,
   "metadata": {},
   "outputs": [
    {
     "data": {
      "image/png": "[encoded data removed]",
      "text/plain": [
       "<Figure size 864x576 with 9 Axes>"
      ]
     },
     "metadata": {
      "needs_background": "light"
     },
     "output_type": "display_data"
    }
   ],
   "source": [
    "df.hist(grid=True, figsize=(12,8))\n",
    "plt.show()"
   ]
  },
  {
   "cell_type": "code",
   "execution_count": 380,
   "metadata": {},
   "outputs": [
    {
     "data": {
      "text/plain": [
       "<seaborn.axisgrid.FacetGrid at 0x15d4740d970>"
      ]
     },
     "execution_count": 380,
     "metadata": {},
     "output_type": "execute_result"
    },
    {
     "data": {
      "image/png": "[encoded data removed]",
      "text/plain": [
       "<Figure size 720x288 with 1 Axes>"
      ]
     },
     "metadata": {
      "needs_background": "light"
     },
     "output_type": "display_data"
    }
   ],
   "source": [
    "fg = sns.displot(x='num_skills', data=df, bins=50, kde=True,\n",
    "                 height=4, aspect=2.5)\n",
    "\n",
    "fg.set(title='Num of Skills Distribution')"
   ]
  },
  {
   "cell_type": "code",
   "execution_count": 381,
   "metadata": {},
   "outputs": [
    {
     "data": {
      "text/plain": [
       "<seaborn.axisgrid.FacetGrid at 0x15d48e28f40>"
      ]
     },
     "execution_count": 381,
     "metadata": {},
     "output_type": "execute_result"
    },
    {
     "data": {
      "image/png": "[encoded data removed]",
      "text/plain": [
       "<Figure size 720x288 with 1 Axes>"
      ]
     },
     "metadata": {
      "needs_background": "light"
     },
     "output_type": "display_data"
    }
   ],
   "source": [
    "fg = sns.displot(x='num_interests', data=df, bins=50, kde=True,\n",
    "                 height=4, aspect=2.5)\n",
    "\n",
    "fg.set(title='Num of INterests Distribution')"
   ]
  },
  {
   "cell_type": "code",
   "execution_count": 382,
   "metadata": {},
   "outputs": [
    {
     "data": {
      "image/png": "[encoded data removed]",
      "text/plain": [
       "<Figure size 432x432 with 3 Axes>"
      ]
     },
     "metadata": {
      "needs_background": "light"
     },
     "output_type": "display_data"
    },
    {
     "data": {
      "image/png": "[encoded data removed]",
      "text/plain": [
       "<Figure size 432x432 with 3 Axes>"
      ]
     },
     "metadata": {
      "needs_background": "light"
     },
     "output_type": "display_data"
    }
   ],
   "source": [
    "sns.jointplot(x='num_skills', y='num_interests', hue='status', data=df)\n",
    "plt.show()\n",
    "sns.jointplot(x='num_skills', y='num_interests', hue='status', data=df, kind='hist')\n",
    "plt.show()"
   ]
  },
  {
   "cell_type": "code",
   "execution_count": 383,
   "metadata": {},
   "outputs": [
    {
     "data": {
      "text/plain": [
       "<AxesSubplot:>"
      ]
     },
     "execution_count": 383,
     "metadata": {},
     "output_type": "execute_result"
    },
    {
     "data": {
      "image/png": "[encoded data removed]",
      "text/plain": [
       "<Figure size 648x504 with 2 Axes>"
      ]
     },
     "metadata": {
      "needs_background": "light"
     },
     "output_type": "display_data"
    }
   ],
   "source": [
    "f,ax = plt.subplots(figsize=(9, 7))\n",
    "sns.heatmap(df[numerical_columns].corr(), annot=True, linewidths=0.5,linecolor=\"black\", fmt= '.2f',ax=ax,cmap=\"GnBu\")"
   ]
  },
  {
   "cell_type": "code",
   "execution_count": 384,
   "metadata": {},
   "outputs": [],
   "source": [
    "def boxplot_for_outlier(df,columns):\n",
    "    count = 0\n",
    "    fig, ax =plt.subplots(nrows=2,ncols=4, figsize=(16,8))\n",
    "    for i in range(2):\n",
    "        for j in range(4):\n",
    "            sns.boxplot(x = df[columns[count]], palette=\"Wistia\",ax=ax[i][j])\n",
    "            count = count+1"
   ]
  },
  {
   "cell_type": "code",
   "execution_count": 385,
   "metadata": {},
   "outputs": [
    {
     "data": {
      "image/png": "[encoded data removed]",
      "text/plain": [
       "<Figure size 1152x576 with 8 Axes>"
      ]
     },
     "metadata": {
      "needs_background": "light"
     },
     "output_type": "display_data"
    }
   ],
   "source": [
    "numerical_columns = df.iloc[:, 1:9].columns\n",
    "boxplot_for_outlier(df, numerical_columns)"
   ]
  },
  {
   "cell_type": "code",
   "execution_count": 386,
   "metadata": {},
   "outputs": [
    {
     "data": {
      "text/plain": [
       "array([   6,    0,    9,   14,    1,   30,    4,    2,    3,    5,   11,\n",
       "         13,    7,   16,   10,   22,    8,   28,   15,   24,   18, 1360])"
      ]
     },
     "execution_count": 386,
     "metadata": {},
     "output_type": "execute_result"
    }
   ],
   "source": [
    "df['following'].unique()"
   ]
  },
  {
   "cell_type": "code",
   "execution_count": 387,
   "metadata": {},
   "outputs": [
    {
     "data": {
      "text/html": [
       "<div>\n",
       "<style scoped>\n",
       "    .dataframe tbody tr th:only-of-type {\n",
       "        vertical-align: middle;\n",
       "    }\n",
       "\n",
       "    .dataframe tbody tr th {\n",
       "        vertical-align: top;\n",
       "    }\n",
       "\n",
       "    .dataframe thead th {\n",
       "        text-align: right;\n",
       "    }\n",
       "</style>\n",
       "<table border=\"1\" class=\"dataframe\">\n",
       "  <thead>\n",
       "    <tr style=\"text-align: right;\">\n",
       "      <th></th>\n",
       "      <th>country</th>\n",
       "      <th>num_skills</th>\n",
       "      <th>num_interests</th>\n",
       "      <th>projects</th>\n",
       "      <th>hackathon</th>\n",
       "      <th>achievement</th>\n",
       "      <th>followers</th>\n",
       "      <th>following</th>\n",
       "      <th>likes</th>\n",
       "      <th>status</th>\n",
       "    </tr>\n",
       "  </thead>\n",
       "  <tbody>\n",
       "    <tr>\n",
       "      <th>406</th>\n",
       "      <td>Brazil</td>\n",
       "      <td>3</td>\n",
       "      <td>5</td>\n",
       "      <td>37</td>\n",
       "      <td>238</td>\n",
       "      <td>8</td>\n",
       "      <td>103</td>\n",
       "      <td>1360</td>\n",
       "      <td>102</td>\n",
       "      <td>1</td>\n",
       "    </tr>\n",
       "  </tbody>\n",
       "</table>\n",
       "</div>"
      ],
      "text/plain": [
       "    country  num_skills  num_interests  projects  hackathon  achievement  \\\n",
       "406  Brazil           3              5        37        238            8   \n",
       "\n",
       "     followers  following  likes  status  \n",
       "406        103       1360    102       1  "
      ]
     },
     "execution_count": 387,
     "metadata": {},
     "output_type": "execute_result"
    }
   ],
   "source": [
    "df.loc[df['following'] == 1360]"
   ]
  },
  {
   "cell_type": "code",
   "execution_count": 388,
   "metadata": {},
   "outputs": [
    {
     "name": "stdout",
     "output_type": "stream",
     "text": [
      "Jose Alexandro Acha Gomes is a super outlier in CUNY hackathon\n"
     ]
    }
   ],
   "source": [
    "print(f'{name_df.iloc[406]} is a super outlier in CUNY hackathon')"
   ]
  },
  {
   "cell_type": "code",
   "execution_count": 389,
   "metadata": {},
   "outputs": [],
   "source": [
    "df.drop(index=406,  inplace=True)"
   ]
  },
  {
   "cell_type": "code",
   "execution_count": 390,
   "metadata": {},
   "outputs": [
    {
     "data": {
      "text/plain": [
       "array([ 4,  0, 17, 11,  3, 16,  1, 13,  9,  2,  5,  7, 29,  8,  6, 47, 12,\n",
       "       19, 43, 18, 21, 97])"
      ]
     },
     "execution_count": 390,
     "metadata": {},
     "output_type": "execute_result"
    }
   ],
   "source": [
    "df['followers'].unique()"
   ]
  },
  {
   "cell_type": "code",
   "execution_count": 391,
   "metadata": {},
   "outputs": [
    {
     "data": {
      "text/html": [
       "<div>\n",
       "<style scoped>\n",
       "    .dataframe tbody tr th:only-of-type {\n",
       "        vertical-align: middle;\n",
       "    }\n",
       "\n",
       "    .dataframe tbody tr th {\n",
       "        vertical-align: top;\n",
       "    }\n",
       "\n",
       "    .dataframe thead th {\n",
       "        text-align: right;\n",
       "    }\n",
       "</style>\n",
       "<table border=\"1\" class=\"dataframe\">\n",
       "  <thead>\n",
       "    <tr style=\"text-align: right;\">\n",
       "      <th></th>\n",
       "      <th>country</th>\n",
       "      <th>num_skills</th>\n",
       "      <th>num_interests</th>\n",
       "      <th>projects</th>\n",
       "      <th>hackathon</th>\n",
       "      <th>achievement</th>\n",
       "      <th>followers</th>\n",
       "      <th>following</th>\n",
       "      <th>likes</th>\n",
       "      <th>status</th>\n",
       "    </tr>\n",
       "  </thead>\n",
       "  <tbody>\n",
       "    <tr>\n",
       "      <th>403</th>\n",
       "      <td>India</td>\n",
       "      <td>8</td>\n",
       "      <td>9</td>\n",
       "      <td>18</td>\n",
       "      <td>78</td>\n",
       "      <td>10</td>\n",
       "      <td>97</td>\n",
       "      <td>18</td>\n",
       "      <td>18</td>\n",
       "      <td>1</td>\n",
       "    </tr>\n",
       "  </tbody>\n",
       "</table>\n",
       "</div>"
      ],
      "text/plain": [
       "    country  num_skills  num_interests  projects  hackathon  achievement  \\\n",
       "403   India           8              9        18         78           10   \n",
       "\n",
       "     followers  following  likes  status  \n",
       "403         97         18     18       1  "
      ]
     },
     "execution_count": 391,
     "metadata": {},
     "output_type": "execute_result"
    }
   ],
   "source": [
    "df.loc[df['followers'] == 97]"
   ]
  },
  {
   "cell_type": "code",
   "execution_count": 392,
   "metadata": {},
   "outputs": [],
   "source": [
    "df.drop(index=403,  inplace=True)"
   ]
  },
  {
   "cell_type": "code",
   "execution_count": 393,
   "metadata": {},
   "outputs": [
    {
     "data": {
      "text/plain": [
       "array([  2,   1,  19, 186,   7,  21,   4,   6,  12,  42,   9,   5,  11,\n",
       "         3,   8, 254,  13,  27,  43,  18,  29,  10,  39,  26,  14,  51,\n",
       "        37,  35,  72, 131,  61,  33,  22,  94,  17,  69,  25,  15])"
      ]
     },
     "execution_count": 393,
     "metadata": {},
     "output_type": "execute_result"
    }
   ],
   "source": [
    "df['hackathon'].unique()"
   ]
  },
  {
   "cell_type": "code",
   "execution_count": 394,
   "metadata": {},
   "outputs": [
    {
     "data": {
      "text/html": [
       "<div>\n",
       "<style scoped>\n",
       "    .dataframe tbody tr th:only-of-type {\n",
       "        vertical-align: middle;\n",
       "    }\n",
       "\n",
       "    .dataframe tbody tr th {\n",
       "        vertical-align: top;\n",
       "    }\n",
       "\n",
       "    .dataframe thead th {\n",
       "        text-align: right;\n",
       "    }\n",
       "</style>\n",
       "<table border=\"1\" class=\"dataframe\">\n",
       "  <thead>\n",
       "    <tr style=\"text-align: right;\">\n",
       "      <th></th>\n",
       "      <th>country</th>\n",
       "      <th>num_skills</th>\n",
       "      <th>num_interests</th>\n",
       "      <th>projects</th>\n",
       "      <th>hackathon</th>\n",
       "      <th>achievement</th>\n",
       "      <th>followers</th>\n",
       "      <th>following</th>\n",
       "      <th>likes</th>\n",
       "      <th>status</th>\n",
       "    </tr>\n",
       "  </thead>\n",
       "  <tbody>\n",
       "    <tr>\n",
       "      <th>6</th>\n",
       "      <td>India</td>\n",
       "      <td>11</td>\n",
       "      <td>6</td>\n",
       "      <td>6</td>\n",
       "      <td>186</td>\n",
       "      <td>9</td>\n",
       "      <td>11</td>\n",
       "      <td>14</td>\n",
       "      <td>42</td>\n",
       "      <td>0</td>\n",
       "    </tr>\n",
       "    <tr>\n",
       "      <th>140</th>\n",
       "      <td>Romania</td>\n",
       "      <td>11</td>\n",
       "      <td>14</td>\n",
       "      <td>11</td>\n",
       "      <td>254</td>\n",
       "      <td>8</td>\n",
       "      <td>29</td>\n",
       "      <td>3</td>\n",
       "      <td>6</td>\n",
       "      <td>0</td>\n",
       "    </tr>\n",
       "    <tr>\n",
       "      <th>343</th>\n",
       "      <td>Unknown</td>\n",
       "      <td>16</td>\n",
       "      <td>9</td>\n",
       "      <td>0</td>\n",
       "      <td>131</td>\n",
       "      <td>8</td>\n",
       "      <td>43</td>\n",
       "      <td>4</td>\n",
       "      <td>15</td>\n",
       "      <td>1</td>\n",
       "    </tr>\n",
       "    <tr>\n",
       "      <th>391</th>\n",
       "      <td>India</td>\n",
       "      <td>0</td>\n",
       "      <td>0</td>\n",
       "      <td>0</td>\n",
       "      <td>94</td>\n",
       "      <td>1</td>\n",
       "      <td>1</td>\n",
       "      <td>0</td>\n",
       "      <td>0</td>\n",
       "      <td>0</td>\n",
       "    </tr>\n",
       "  </tbody>\n",
       "</table>\n",
       "</div>"
      ],
      "text/plain": [
       "     country  num_skills  num_interests  projects  hackathon  achievement  \\\n",
       "6      India          11              6         6        186            9   \n",
       "140  Romania          11             14        11        254            8   \n",
       "343  Unknown          16              9         0        131            8   \n",
       "391    India           0              0         0         94            1   \n",
       "\n",
       "     followers  following  likes  status  \n",
       "6           11         14     42       0  \n",
       "140         29          3      6       0  \n",
       "343         43          4     15       1  \n",
       "391          1          0      0       0  "
      ]
     },
     "execution_count": 394,
     "metadata": {},
     "output_type": "execute_result"
    }
   ],
   "source": [
    "df.loc[(df['hackathon'] == 254) | \n",
    "       (df['hackathon'] == 186) | \n",
    "       (df['hackathon'] == 131) |\n",
    "       (df['hackathon'] == 94)]"
   ]
  },
  {
   "cell_type": "code",
   "execution_count": 395,
   "metadata": {},
   "outputs": [],
   "source": [
    "df.drop(index=[6, 140, 343, 391],  inplace=True)"
   ]
  },
  {
   "cell_type": "code",
   "execution_count": 396,
   "metadata": {},
   "outputs": [
    {
     "data": {
      "image/png": "[encoded data removed]",
      "text/plain": [
       "<Figure size 1152x576 with 8 Axes>"
      ]
     },
     "metadata": {
      "needs_background": "light"
     },
     "output_type": "display_data"
    }
   ],
   "source": [
    "boxplot_for_outlier(df, numerical_columns)"
   ]
  },
  {
   "cell_type": "code",
   "execution_count": 399,
   "metadata": {},
   "outputs": [],
   "source": [
    "raw = df"
   ]
  },
  {
   "cell_type": "code",
   "execution_count": 402,
   "metadata": {},
   "outputs": [],
   "source": [
    "# Convert categorical variable into dummy/indicator variables\n",
    "\n",
    "obj_cols = df.select_dtypes('object').columns\n",
    "\n",
    "for col in obj_cols:\n",
    "    df = pd.concat([df.drop(col, axis=1), pd.get_dummies(df[col])], axis=1)"
   ]
  },
  {
   "cell_type": "markdown",
   "metadata": {},
   "source": [
    "# Build and Evaluate Models"
   ]
  },
  {
   "cell_type": "code",
   "execution_count": 532,
   "metadata": {},
   "outputs": [],
   "source": [
    "from sklearn.model_selection import train_test_split\n",
    "from sklearn.preprocessing import StandardScaler\n",
    "\n",
    "from sklearn.linear_model import LogisticRegression\n",
    "from sklearn.ensemble import RandomForestClassifier\n",
    "from sklearn.neural_network import MLPClassifier\n",
    "from sklearn.neighbors import KNeighborsClassifier\n",
    "\n",
    "from sklearn.metrics import f1_score, accuracy_score, roc_auc_score\n",
    "from sklearn.metrics import classification_report\n",
    "from sklearn.metrics import plot_roc_curve\n",
    "\n",
    "import eli5\n",
    "import lightgbm as lgb"
   ]
  },
  {
   "cell_type": "code",
   "execution_count": 507,
   "metadata": {},
   "outputs": [],
   "source": [
    "# Create X (all columns except target)\n",
    "X = df.drop('status', axis=1)\n",
    "\n",
    "# Create y (only the target column)\n",
    "y = df.loc[:, 'status']\n",
    "\n",
    "\n",
    "# Split X and y into train and test sets\n",
    "X_train, X_test, y_train, y_test = train_test_split(X, y, test_size=0.20, random_state=8)\n",
    "\n",
    "X_tst = X_test.copy()\n",
    "# Create an instance of StandardScaler as scaler\n",
    "scaler = StandardScaler()\n",
    "# Fit the StandardScaler to the features\n",
    "scaler.fit(X_train)\n",
    "X_train = scaler.transform(X_train)\n",
    "X_test = scaler.transform(X_test)"
   ]
  },
  {
   "cell_type": "code",
   "execution_count": 463,
   "metadata": {},
   "outputs": [
    {
     "name": "stdout",
     "output_type": "stream",
     "text": [
      "{'LR': LogisticRegression(random_state=0, solver='liblinear'), 'RF': RandomForestClassifier(random_state=0), 'NN': MLPClassifier(early_stopping=True, hidden_layer_sizes=[100, 100, 100, 100, 100],\n",
      "              learning_rate='adaptive', random_state=0)}\n",
      "Wall time: 452 ms\n"
     ]
    }
   ],
   "source": [
    "%%time\n",
    "ML_models = {}\n",
    "model_index = ['LR','RF','NN']\n",
    "model_sklearn = [LogisticRegression(solver='liblinear', random_state=0),\n",
    "                 RandomForestClassifier(n_estimators=100, random_state=0),\n",
    "                 MLPClassifier([100]*5, early_stopping=True, learning_rate='adaptive', random_state=0)]\n",
    "model_summary = []\n",
    "for name,model in zip(model_index,model_sklearn):\n",
    "    ML_models[name] = model.fit(X_train, y_train)\n",
    "    preds = model.predict(X_test)\n",
    "    model_summary.append([name,f1_score(y_test,preds, average='weighted'), accuracy_score(y_test,preds),\n",
    "                          roc_auc_score(y_test, model.predict_proba(X_test)[:,1])])\n",
    "print(ML_models)"
   ]
  },
  {
   "cell_type": "code",
   "execution_count": 464,
   "metadata": {},
   "outputs": [
    {
     "data": {
      "text/html": [
       "<div>\n",
       "<style scoped>\n",
       "    .dataframe tbody tr th:only-of-type {\n",
       "        vertical-align: middle;\n",
       "    }\n",
       "\n",
       "    .dataframe tbody tr th {\n",
       "        vertical-align: top;\n",
       "    }\n",
       "\n",
       "    .dataframe thead th {\n",
       "        text-align: right;\n",
       "    }\n",
       "</style>\n",
       "<table border=\"1\" class=\"dataframe\">\n",
       "  <thead>\n",
       "    <tr style=\"text-align: right;\">\n",
       "      <th></th>\n",
       "      <th>index</th>\n",
       "      <th>Name</th>\n",
       "      <th>F1_score</th>\n",
       "      <th>Accuracy</th>\n",
       "      <th>AUC_ROC</th>\n",
       "    </tr>\n",
       "  </thead>\n",
       "  <tbody>\n",
       "    <tr>\n",
       "      <th>0</th>\n",
       "      <td>0</td>\n",
       "      <td>LR</td>\n",
       "      <td>0.856572</td>\n",
       "      <td>0.884211</td>\n",
       "      <td>0.647280</td>\n",
       "    </tr>\n",
       "    <tr>\n",
       "      <th>1</th>\n",
       "      <td>1</td>\n",
       "      <td>RF</td>\n",
       "      <td>0.833226</td>\n",
       "      <td>0.842105</td>\n",
       "      <td>0.624296</td>\n",
       "    </tr>\n",
       "    <tr>\n",
       "      <th>2</th>\n",
       "      <td>2</td>\n",
       "      <td>NN</td>\n",
       "      <td>0.799762</td>\n",
       "      <td>0.863158</td>\n",
       "      <td>0.745779</td>\n",
       "    </tr>\n",
       "  </tbody>\n",
       "</table>\n",
       "</div>"
      ],
      "text/plain": [
       "   index Name  F1_score  Accuracy   AUC_ROC\n",
       "0      0   LR  0.856572  0.884211  0.647280\n",
       "1      1   RF  0.833226  0.842105  0.624296\n",
       "2      2   NN  0.799762  0.863158  0.745779"
      ]
     },
     "metadata": {},
     "output_type": "display_data"
    }
   ],
   "source": [
    "model_summary = pd.DataFrame(model_summary,columns=['Name', 'F1_score', 'Accuracy', 'AUC_ROC'])\n",
    "model_summary = model_summary.reset_index()\n",
    "display(model_summary)"
   ]
  },
  {
   "cell_type": "code",
   "execution_count": 465,
   "metadata": {},
   "outputs": [
    {
     "data": {
      "image/png": "[encoded data removed]",
      "text/plain": [
       "<Figure size 432x288 with 1 Axes>"
      ]
     },
     "metadata": {
      "needs_background": "light"
     },
     "output_type": "display_data"
    }
   ],
   "source": [
    "g = sns.regplot(data=model_summary, x=\"index\", y=\"AUC_ROC\", fit_reg=False,\n",
    "                marker=\"o\", color=\"black\", scatter_kws={'s':500})\n",
    "\n",
    "for i in range(0,model_summary.shape[0]):\n",
    "     g.text(model_summary.loc[i,'index'], model_summary.loc[i,'AUC_ROC']+0.02, model_summary.loc[i,'Name'], \n",
    "            horizontalalignment='center', verticalalignment='top', size='large', color='black')"
   ]
  },
  {
   "cell_type": "code",
   "execution_count": 466,
   "metadata": {},
   "outputs": [
    {
     "name": "stdout",
     "output_type": "stream",
     "text": [
      "[0.2, 0.17894736842105263, 0.12631578947368421, 0.12631578947368421, 0.1368421052631579]\n"
     ]
    },
    {
     "data": {
      "image/png": "[encoded data removed]",
      "text/plain": [
       "<Figure size 432x288 with 1 Axes>"
      ]
     },
     "metadata": {
      "needs_background": "light"
     },
     "output_type": "display_data"
    }
   ],
   "source": [
    "# # Calculate error for K values between 1 and 19 step 4\n",
    "error = []\n",
    "\n",
    "for i in range(1, 20, 4):\n",
    "    knn = KNeighborsClassifier(n_neighbors=i)\n",
    "    knn.fit(X_train, y_train)\n",
    "    pred_i = knn.predict(X_test)\n",
    "    error.append(np.mean(pred_i != y_test))\n",
    "\n",
    "print(error)\n",
    "    \n",
    "# Visulaize the relationship between error rate and k value\n",
    "# plt.figure(figsize=(12, 6))\n",
    "plt.plot(range(1, 20, 4), error, color='red', linestyle='dashed', marker='o',\n",
    "         markerfacecolor='blue', markersize=10)\n",
    "plt.title('Error Rate K Value')\n",
    "plt.xlabel('K Value')\n",
    "plt.ylabel('Mean Error')\n",
    "plt.show()"
   ]
  },
  {
   "cell_type": "code",
   "execution_count": 467,
   "metadata": {},
   "outputs": [
    {
     "name": "stdout",
     "output_type": "stream",
     "text": [
      "0.8736842105263158\n"
     ]
    }
   ],
   "source": [
    "# Create an instance of KNeighborsClassifier as knc\n",
    "knc = KNeighborsClassifier(n_neighbors=9)\n",
    "\n",
    "# Fit the KNeighborsClassifier to the training data\n",
    "knc.fit(X_train, y_train)\n",
    "\n",
    "# Use the fitted model to make predictions on the test data and\n",
    "# store the predictions to a variable called pred\n",
    "pred = knc.predict(X_test)\n",
    "\n",
    "knc_score = knc.score(X_test, y_test)\n",
    "print(knc_score)"
   ]
  },
  {
   "cell_type": "code",
   "execution_count": 468,
   "metadata": {},
   "outputs": [
    {
     "name": "stdout",
     "output_type": "stream",
     "text": [
      "[[ 1 12]\n",
      " [ 0 82]]\n"
     ]
    }
   ],
   "source": [
    "from sklearn.metrics import confusion_matrix\n",
    "print(confusion_matrix(y_test, pred))"
   ]
  },
  {
   "cell_type": "code",
   "execution_count": 529,
   "metadata": {},
   "outputs": [],
   "source": [
    "# Make confusion matrix more visual\n",
    "def plot_conf_mat(y_test, y_preds):\n",
    "    \"\"\"\n",
    "    Plots a confusion matrix using Seaborn's heatmap().\n",
    "    \"\"\"\n",
    "    fig, ax = plt.subplots(figsize=(6, 5))\n",
    "    ax = sns.heatmap(confusion_matrix(y_test, y_preds),\n",
    "                     annot=True, # Annotate the boxes\n",
    "                     cbar=True,\n",
    "                     cmap='GnBu')\n",
    "    plt.xlabel(\"Predicted label\")\n",
    "    plt.ylabel(\"True label\")"
   ]
  },
  {
   "cell_type": "code",
   "execution_count": 530,
   "metadata": {},
   "outputs": [
    {
     "data": {
      "text/plain": [
       "Text(0.5, 1.0, 'K-Neighbors \\n Accuracy 0.87\\n')"
      ]
     },
     "execution_count": 530,
     "metadata": {},
     "output_type": "execute_result"
    },
    {
     "data": {
      "image/png": "[encoded data removed]",
      "text/plain": [
       "<Figure size 432x360 with 2 Axes>"
      ]
     },
     "metadata": {
      "needs_background": "light"
     },
     "output_type": "display_data"
    }
   ],
   "source": [
    "# Call plot_conf_mat with the test labels and predictions\n",
    "plot_conf_mat(y_test, pred)\n",
    "\n",
    "\n",
    "# Give the matrix a title\n",
    "plt.title(f'K-Neighbors \\n Accuracy {knc_score:.2f}\\n')"
   ]
  },
  {
   "cell_type": "code",
   "execution_count": 551,
   "metadata": {},
   "outputs": [
    {
     "name": "stdout",
     "output_type": "stream",
     "text": [
      "K-Neighbors Report\n",
      "\n",
      "\n",
      "              precision    recall  f1-score   support\n",
      "\n",
      "           0       1.00      0.08      0.14        13\n",
      "           1       0.87      1.00      0.93        82\n",
      "\n",
      "    accuracy                           0.87        95\n",
      "   macro avg       0.94      0.54      0.54        95\n",
      "weighted avg       0.89      0.87      0.82        95\n",
      "\n"
     ]
    }
   ],
   "source": [
    "# Fit the test labels and predictions into classification_report and\n",
    "# print the report\n",
    "print('K-Neighbors Report', end='\\n\\n\\n')\n",
    "print(classification_report(y_test,pred))"
   ]
  },
  {
   "cell_type": "code",
   "execution_count": 550,
   "metadata": {},
   "outputs": [
    {
     "name": "stdout",
     "output_type": "stream",
     "text": [
      "Logistic Regression \n",
      "Random Froest \n",
      "Neural Net \n",
      "\n",
      "Report\n",
      "\n"
     ]
    },
    {
     "data": {
      "text/html": [
       "<div>\n",
       "<style scoped>\n",
       "    .dataframe tbody tr th:only-of-type {\n",
       "        vertical-align: middle;\n",
       "    }\n",
       "\n",
       "    .dataframe tbody tr th {\n",
       "        vertical-align: top;\n",
       "    }\n",
       "\n",
       "    .dataframe thead th {\n",
       "        text-align: right;\n",
       "    }\n",
       "</style>\n",
       "<table border=\"1\" class=\"dataframe\">\n",
       "  <thead>\n",
       "    <tr style=\"text-align: right;\">\n",
       "      <th></th>\n",
       "      <th>index</th>\n",
       "      <th>Name</th>\n",
       "      <th>F1_score</th>\n",
       "      <th>Accuracy</th>\n",
       "      <th>AUC_ROC</th>\n",
       "    </tr>\n",
       "  </thead>\n",
       "  <tbody>\n",
       "    <tr>\n",
       "      <th>0</th>\n",
       "      <td>0</td>\n",
       "      <td>LR</td>\n",
       "      <td>0.856572</td>\n",
       "      <td>0.884211</td>\n",
       "      <td>0.647280</td>\n",
       "    </tr>\n",
       "    <tr>\n",
       "      <th>1</th>\n",
       "      <td>1</td>\n",
       "      <td>RF</td>\n",
       "      <td>0.833226</td>\n",
       "      <td>0.842105</td>\n",
       "      <td>0.624296</td>\n",
       "    </tr>\n",
       "    <tr>\n",
       "      <th>2</th>\n",
       "      <td>2</td>\n",
       "      <td>NN</td>\n",
       "      <td>0.799762</td>\n",
       "      <td>0.863158</td>\n",
       "      <td>0.745779</td>\n",
       "    </tr>\n",
       "  </tbody>\n",
       "</table>\n",
       "</div>"
      ],
      "text/plain": [
       "   index Name  F1_score  Accuracy   AUC_ROC\n",
       "0      0   LR  0.856572  0.884211  0.647280\n",
       "1      1   RF  0.833226  0.842105  0.624296\n",
       "2      2   NN  0.799762  0.863158  0.745779"
      ]
     },
     "metadata": {},
     "output_type": "display_data"
    }
   ],
   "source": [
    "model_summary = pd.DataFrame(model_summary,columns=['Name', 'F1_score', 'Accuracy', 'AUC_ROC'])\n",
    "model_summary = model_summary.reset_index()\n",
    "print('Logistic Regression \\nRandom Froest \\nNeural Net \\n\\nReport', end='\\n\\n')\n",
    "display(model_summary)"
   ]
  },
  {
   "cell_type": "markdown",
   "metadata": {},
   "source": [
    "# Feature Importance"
   ]
  },
  {
   "cell_type": "code",
   "execution_count": 538,
   "metadata": {},
   "outputs": [
    {
     "data": {
      "text/html": [
       "\n",
       "    <style>\n",
       "    table.eli5-weights tr:hover {\n",
       "        filter: brightness(85%);\n",
       "    }\n",
       "</style>\n",
       "\n",
       "\n",
       "\n",
       "    \n",
       "\n",
       "    \n",
       "\n",
       "    \n",
       "\n",
       "    \n",
       "\n",
       "    \n",
       "\n",
       "    \n",
       "\n",
       "\n",
       "    \n",
       "\n",
       "    \n",
       "\n",
       "    \n",
       "\n",
       "    \n",
       "        \n",
       "\n",
       "    \n",
       "\n",
       "        \n",
       "            \n",
       "                \n",
       "                \n",
       "    \n",
       "        <p style=\"margin-bottom: 0.5em; margin-top: 0em\">\n",
       "            <b>\n",
       "    \n",
       "        y=1\n",
       "    \n",
       "</b>\n",
       "\n",
       "top features\n",
       "        </p>\n",
       "    \n",
       "    <table class=\"eli5-weights\"\n",
       "           style=\"border-collapse: collapse; border: none; margin-top: 0em; table-layout: auto; margin-bottom: 2em;\">\n",
       "        <thead>\n",
       "        <tr style=\"border: none;\">\n",
       "            \n",
       "                <th style=\"padding: 0 1em 0 0.5em; text-align: right; border: none;\" title=\"Feature weights. Note that weights do not account for feature value scales, so if feature values have different scales, features with highest weights might not be the most important.\">\n",
       "                    Weight<sup>?</sup>\n",
       "                </th>\n",
       "            \n",
       "            <th style=\"padding: 0 0.5em 0 0.5em; text-align: left; border: none;\">Feature</th>\n",
       "            \n",
       "        </tr>\n",
       "        </thead>\n",
       "        <tbody>\n",
       "        \n",
       "            <tr style=\"background-color: hsl(120, 100.00%, 80.00%); border: none;\">\n",
       "    <td style=\"padding: 0 1em 0 0.5em; text-align: right; border: none;\">\n",
       "        +1.754\n",
       "    </td>\n",
       "    <td style=\"padding: 0 0.5em 0 0.5em; text-align: left; border: none;\">\n",
       "        &lt;BIAS&gt;\n",
       "    </td>\n",
       "    \n",
       "</tr>\n",
       "        \n",
       "            <tr style=\"background-color: hsl(120, 100.00%, 88.88%); border: none;\">\n",
       "    <td style=\"padding: 0 1em 0 0.5em; text-align: right; border: none;\">\n",
       "        +0.759\n",
       "    </td>\n",
       "    <td style=\"padding: 0 0.5em 0 0.5em; text-align: left; border: none;\">\n",
       "        followers\n",
       "    </td>\n",
       "    \n",
       "</tr>\n",
       "        \n",
       "            <tr style=\"background-color: hsl(120, 100.00%, 93.18%); border: none;\">\n",
       "    <td style=\"padding: 0 1em 0 0.5em; text-align: right; border: none;\">\n",
       "        +0.378\n",
       "    </td>\n",
       "    <td style=\"padding: 0 0.5em 0 0.5em; text-align: left; border: none;\">\n",
       "        num_interests\n",
       "    </td>\n",
       "    \n",
       "</tr>\n",
       "        \n",
       "            <tr style=\"background-color: hsl(120, 100.00%, 95.19%); border: none;\">\n",
       "    <td style=\"padding: 0 1em 0 0.5em; text-align: right; border: none;\">\n",
       "        +0.229\n",
       "    </td>\n",
       "    <td style=\"padding: 0 0.5em 0 0.5em; text-align: left; border: none;\">\n",
       "        Unknown\n",
       "    </td>\n",
       "    \n",
       "</tr>\n",
       "        \n",
       "            <tr style=\"background-color: hsl(120, 100.00%, 95.77%); border: none;\">\n",
       "    <td style=\"padding: 0 1em 0 0.5em; text-align: right; border: none;\">\n",
       "        +0.191\n",
       "    </td>\n",
       "    <td style=\"padding: 0 0.5em 0 0.5em; text-align: left; border: none;\">\n",
       "        Malaysia\n",
       "    </td>\n",
       "    \n",
       "</tr>\n",
       "        \n",
       "            <tr style=\"background-color: hsl(120, 100.00%, 96.11%); border: none;\">\n",
       "    <td style=\"padding: 0 1em 0 0.5em; text-align: right; border: none;\">\n",
       "        +0.169\n",
       "    </td>\n",
       "    <td style=\"padding: 0 0.5em 0 0.5em; text-align: left; border: none;\">\n",
       "        France\n",
       "    </td>\n",
       "    \n",
       "</tr>\n",
       "        \n",
       "            <tr style=\"background-color: hsl(120, 100.00%, 96.50%); border: none;\">\n",
       "    <td style=\"padding: 0 1em 0 0.5em; text-align: right; border: none;\">\n",
       "        +0.145\n",
       "    </td>\n",
       "    <td style=\"padding: 0 0.5em 0 0.5em; text-align: left; border: none;\">\n",
       "        China\n",
       "    </td>\n",
       "    \n",
       "</tr>\n",
       "        \n",
       "            <tr style=\"background-color: hsl(120, 100.00%, 96.53%); border: none;\">\n",
       "    <td style=\"padding: 0 1em 0 0.5em; text-align: right; border: none;\">\n",
       "        +0.144\n",
       "    </td>\n",
       "    <td style=\"padding: 0 0.5em 0 0.5em; text-align: left; border: none;\">\n",
       "        UK\n",
       "    </td>\n",
       "    \n",
       "</tr>\n",
       "        \n",
       "            <tr style=\"background-color: hsl(120, 100.00%, 96.61%); border: none;\">\n",
       "    <td style=\"padding: 0 1em 0 0.5em; text-align: right; border: none;\">\n",
       "        +0.139\n",
       "    </td>\n",
       "    <td style=\"padding: 0 0.5em 0 0.5em; text-align: left; border: none;\">\n",
       "        Mexico\n",
       "    </td>\n",
       "    \n",
       "</tr>\n",
       "        \n",
       "            <tr style=\"background-color: hsl(120, 100.00%, 96.62%); border: none;\">\n",
       "    <td style=\"padding: 0 1em 0 0.5em; text-align: right; border: none;\">\n",
       "        +0.139\n",
       "    </td>\n",
       "    <td style=\"padding: 0 0.5em 0 0.5em; text-align: left; border: none;\">\n",
       "        Vietnam\n",
       "    </td>\n",
       "    \n",
       "</tr>\n",
       "        \n",
       "            <tr style=\"background-color: hsl(120, 100.00%, 97.05%); border: none;\">\n",
       "    <td style=\"padding: 0 1em 0 0.5em; text-align: right; border: none;\">\n",
       "        +0.114\n",
       "    </td>\n",
       "    <td style=\"padding: 0 0.5em 0 0.5em; text-align: left; border: none;\">\n",
       "        Czechia\n",
       "    </td>\n",
       "    \n",
       "</tr>\n",
       "        \n",
       "            <tr style=\"background-color: hsl(120, 100.00%, 97.63%); border: none;\">\n",
       "    <td style=\"padding: 0 1em 0 0.5em; text-align: right; border: none;\">\n",
       "        +0.083\n",
       "    </td>\n",
       "    <td style=\"padding: 0 0.5em 0 0.5em; text-align: left; border: none;\">\n",
       "        num_skills\n",
       "    </td>\n",
       "    \n",
       "</tr>\n",
       "        \n",
       "            <tr style=\"background-color: hsl(120, 100.00%, 98.16%); border: none;\">\n",
       "    <td style=\"padding: 0 1em 0 0.5em; text-align: right; border: none;\">\n",
       "        +0.058\n",
       "    </td>\n",
       "    <td style=\"padding: 0 0.5em 0 0.5em; text-align: left; border: none;\">\n",
       "        following\n",
       "    </td>\n",
       "    \n",
       "</tr>\n",
       "        \n",
       "        \n",
       "\n",
       "        \n",
       "        \n",
       "            <tr style=\"background-color: hsl(0, 100.00%, 99.38%); border: none;\">\n",
       "    <td style=\"padding: 0 1em 0 0.5em; text-align: right; border: none;\">\n",
       "        -0.012\n",
       "    </td>\n",
       "    <td style=\"padding: 0 0.5em 0 0.5em; text-align: left; border: none;\">\n",
       "        US\n",
       "    </td>\n",
       "    \n",
       "</tr>\n",
       "        \n",
       "            <tr style=\"background-color: hsl(0, 100.00%, 98.57%); border: none;\">\n",
       "    <td style=\"padding: 0 1em 0 0.5em; text-align: right; border: none;\">\n",
       "        -0.041\n",
       "    </td>\n",
       "    <td style=\"padding: 0 0.5em 0 0.5em; text-align: left; border: none;\">\n",
       "        Canada\n",
       "    </td>\n",
       "    \n",
       "</tr>\n",
       "        \n",
       "            <tr style=\"background-color: hsl(0, 100.00%, 98.13%); border: none;\">\n",
       "    <td style=\"padding: 0 1em 0 0.5em; text-align: right; border: none;\">\n",
       "        -0.059\n",
       "    </td>\n",
       "    <td style=\"padding: 0 0.5em 0 0.5em; text-align: left; border: none;\">\n",
       "        achievement\n",
       "    </td>\n",
       "    \n",
       "</tr>\n",
       "        \n",
       "            <tr style=\"background-color: hsl(0, 100.00%, 94.97%); border: none;\">\n",
       "    <td style=\"padding: 0 1em 0 0.5em; text-align: right; border: none;\">\n",
       "        -0.244\n",
       "    </td>\n",
       "    <td style=\"padding: 0 0.5em 0 0.5em; text-align: left; border: none;\">\n",
       "        India\n",
       "    </td>\n",
       "    \n",
       "</tr>\n",
       "        \n",
       "            <tr style=\"background-color: hsl(0, 100.00%, 94.55%); border: none;\">\n",
       "    <td style=\"padding: 0 1em 0 0.5em; text-align: right; border: none;\">\n",
       "        -0.274\n",
       "    </td>\n",
       "    <td style=\"padding: 0 0.5em 0 0.5em; text-align: left; border: none;\">\n",
       "        hackathon\n",
       "    </td>\n",
       "    \n",
       "</tr>\n",
       "        \n",
       "            <tr style=\"background-color: hsl(0, 100.00%, 93.68%); border: none;\">\n",
       "    <td style=\"padding: 0 1em 0 0.5em; text-align: right; border: none;\">\n",
       "        -0.338\n",
       "    </td>\n",
       "    <td style=\"padding: 0 0.5em 0 0.5em; text-align: left; border: none;\">\n",
       "        likes\n",
       "    </td>\n",
       "    \n",
       "</tr>\n",
       "        \n",
       "            <tr style=\"background-color: hsl(0, 100.00%, 92.97%); border: none;\">\n",
       "    <td style=\"padding: 0 1em 0 0.5em; text-align: right; border: none;\">\n",
       "        -0.394\n",
       "    </td>\n",
       "    <td style=\"padding: 0 0.5em 0 0.5em; text-align: left; border: none;\">\n",
       "        Indonesia\n",
       "    </td>\n",
       "    \n",
       "</tr>\n",
       "        \n",
       "            <tr style=\"background-color: hsl(0, 100.00%, 92.52%); border: none;\">\n",
       "    <td style=\"padding: 0 1em 0 0.5em; text-align: right; border: none;\">\n",
       "        -0.431\n",
       "    </td>\n",
       "    <td style=\"padding: 0 0.5em 0 0.5em; text-align: left; border: none;\">\n",
       "        projects\n",
       "    </td>\n",
       "    \n",
       "</tr>\n",
       "        \n",
       "\n",
       "        </tbody>\n",
       "    </table>\n",
       "\n",
       "            \n",
       "        \n",
       "\n",
       "        \n",
       "\n",
       "\n",
       "\n",
       "    \n",
       "\n",
       "    \n",
       "\n",
       "    \n",
       "\n",
       "    \n",
       "\n",
       "\n",
       "    \n",
       "\n",
       "    \n",
       "\n",
       "    \n",
       "\n",
       "    \n",
       "\n",
       "    \n",
       "\n",
       "    \n",
       "\n",
       "\n",
       "    \n",
       "\n",
       "    \n",
       "\n",
       "    \n",
       "\n",
       "    \n",
       "\n",
       "    \n",
       "\n",
       "    \n",
       "\n",
       "\n",
       "\n"
      ],
      "text/plain": [
       "<IPython.core.display.HTML object>"
      ]
     },
     "execution_count": 538,
     "metadata": {},
     "output_type": "execute_result"
    }
   ],
   "source": [
    "eli5.show_weights(ML_models['LR'], feature_names = list(X_tst.columns), top=None)"
   ]
  },
  {
   "cell_type": "markdown",
   "metadata": {},
   "source": [
    "# Conclusion / Insight"
   ]
  },
  {
   "cell_type": "markdown",
   "metadata": {},
   "source": [
    "### Participants with more followers and interests on DevPost are more likely to work in a team."
   ]
  },
  {
   "cell_type": "markdown",
   "metadata": {},
   "source": [
    "### Participants with more projects, likes and hackathon experience are more likely to work solo."
   ]
  },
  {
   "cell_type": "code",
   "execution_count": null,
   "metadata": {},
   "outputs": [],
   "source": []
  }
 ],
 "metadata": {
  "kernelspec": {
   "display_name": "Python 3",
   "language": "python",
   "name": "python3"
  },
  "language_info": {
   "codemirror_mode": {
    "name": "ipython",
    "version": 3
   },
   "file_extension": ".py",
   "mimetype": "text/x-python",
   "name": "python",
   "nbconvert_exporter": "python",
   "pygments_lexer": "ipython3",
   "version": "3.8.5"
  }
 },
 "nbformat": 4,
 "nbformat_minor": 4
}
